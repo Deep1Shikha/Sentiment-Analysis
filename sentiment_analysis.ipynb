{
  "nbformat": 4,
  "nbformat_minor": 0,
  "metadata": {
    "colab": {
      "name": "sentiment_analysis.ipynb",
      "provenance": [],
      "authorship_tag": "ABX9TyPR1t5gqOX8Q+afhvx/O6F4",
      "include_colab_link": true
    },
    "kernelspec": {
      "name": "python3",
      "display_name": "Python 3"
    }
  },
  "cells": [
    {
      "cell_type": "markdown",
      "metadata": {
        "id": "view-in-github",
        "colab_type": "text"
      },
      "source": [
        "<a href=\"https://colab.research.google.com/github/Deep1Shikha/Sentiment-Analysis/blob/master/sentiment_analysis.ipynb\" target=\"_parent\"><img src=\"https://colab.research.google.com/assets/colab-badge.svg\" alt=\"Open In Colab\"/></a>"
      ]
    },
    {
      "cell_type": "markdown",
      "metadata": {
        "id": "oY7TFLMXndPD",
        "colab_type": "text"
      },
      "source": [
        "**The code uses the tweepy library to access the Twitter API and the TextBlob library to perform Sentiment Analysis on each Tweet. We'll be able to see how positive or negative each tweet is about whatever topic we choose.**"
      ]
    },
    {
      "cell_type": "code",
      "metadata": {
        "id": "ByB0EMrojA2u",
        "colab_type": "code",
        "colab": {}
      },
      "source": [
        "import tweepy\n",
        "from textblob import TextBlob\n",
        "import csv"
      ],
      "execution_count": 37,
      "outputs": []
    },
    {
      "cell_type": "markdown",
      "metadata": {
        "id": "dAbjP3gLnx-l",
        "colab_type": "text"
      },
      "source": [
        "*AUTHENTICATE*"
      ]
    },
    {
      "cell_type": "code",
      "metadata": {
        "id": "8birEMMmjCq1",
        "colab_type": "code",
        "colab": {}
      },
      "source": [
        "consumer_key= 'aPtflrDrGNL6HfbCri6oisXQd'\n",
        "consumer_secret= 'JxmpFGTYfBufgqLBoZ38aGILxsMaOeMhtJ4OShjpxdH1LM1nnx'\n",
        "\n",
        "access_token='4475297263-Whrh2blYj2NZ5pbPeQD8HnPJUuX0ac9hYGMuogL'\n",
        "access_token_secret='fPM3PeM56uSW50AXb3e4K3ucyFgK0DQjMjgNPC8bHAiWI'\n",
        "\n",
        "auth = tweepy.OAuthHandler(consumer_key, consumer_secret)\n",
        "auth.set_access_token(access_token, access_token_secret)\n",
        "\n",
        "api = tweepy.API(auth)\n",
        "\n",
        "#Step 3 - Retrieve Tweets\n",
        "public_tweets = api.search('RCB')"
      ],
      "execution_count": 38,
      "outputs": []
    },
    {
      "cell_type": "markdown",
      "metadata": {
        "id": "t7R7x95MoEMw",
        "colab_type": "text"
      },
      "source": [
        "Instead of printing out each tweet, save each Tweet to a CSV file\n",
        "and label each one as either 'positive' or 'negative', depending on the sentiment \n",
        "You can decide the sentiment polarity threshold yourself"
      ]
    },
    {
      "cell_type": "code",
      "metadata": {
        "id": "F1XTfhIBqrIH",
        "colab_type": "code",
        "colab": {
          "base_uri": "https://localhost:8080/",
          "height": 1000
        },
        "outputId": "c8946728-660f-4159-9246-4eaaafd3d21e"
      },
      "source": [
        "for tweet in public_tweets:\n",
        "    print(tweet.text)\n",
        "    print('.............................................................')\n",
        "    analysis = TextBlob(tweet.text)\n",
        "    print(analysis.sentiment)"
      ],
      "execution_count": 59,
      "outputs": [
        {
          "output_type": "stream",
          "text": [
            "RT @being_Ajay_: 2020 में जैसी जैसी अनहोनी हुईं हैं\n",
            "\n",
            "उसे देख कर लग रहा है...\n",
            ".\n",
            ".\n",
            "\n",
            " इस बार IPL RCB ही जीतेगी\n",
            "😉😉😉😂😂😂\n",
            ".............................................................\n",
            "Sentiment(polarity=0.0, subjectivity=0.0)\n",
            "RT @Nushrratt: RCB wins with a catch straight into Kohli's hands! #RCBvSRH\n",
            ".............................................................\n",
            "Sentiment(polarity=0.275, subjectivity=0.30000000000000004)\n",
            "RT @Singhlicious: RCB players after winning 2 matches in a row: https://t.co/SrQ2miPJe8\n",
            ".............................................................\n",
            "Sentiment(polarity=0.5, subjectivity=0.75)\n",
            "Fuck RCB https://t.co/cJtmJDjei1\n",
            ".............................................................\n",
            "Sentiment(polarity=-0.4, subjectivity=0.6)\n",
            "Sunny on gerg wicket this is a blunder playing against Dube in slow wicket When we have a ABD who is master in reve… https://t.co/yegm9PjnhS\n",
            ".............................................................\n",
            "Sentiment(polarity=-0.30000000000000004, subjectivity=0.39999999999999997)\n",
            "RT @AbdeFansTrends: Haters 🤫🤫🤫 \n",
            "\n",
            "#WeAreChallengers #IPL2020 #RCB https://t.co/37lp0uQAcI\n",
            ".............................................................\n",
            "Sentiment(polarity=0.0, subjectivity=0.0)\n",
            "RT @Hari_VFC_: Chahal in RCB                   Other\n",
            "                                     bowlers in RCB https://t.co/YCfP93wVrl\n",
            ".............................................................\n",
            "Sentiment(polarity=-0.125, subjectivity=0.375)\n",
            "First Virat Kohli showed respect and give Royal salute for Real Heroes Simranjeet Singh Sir🙏. Now Simranjeet Singh… https://t.co/PHOqWzZyAZ\n",
            ".............................................................\n",
            "Sentiment(polarity=0.225, subjectivity=0.31666666666666665)\n",
            "RT @akakrcb6: RCB won yesterday , RCBians getting ready for today's match be like : \n",
            "\n",
            "#Relaxed https://t.co/oemcNkgFnj\n",
            ".............................................................\n",
            "Sentiment(polarity=0.2, subjectivity=0.5)\n",
            "RT @mufaddal_vohra: David Warner said that Kane Williamson missed out the game against RCB because he was not fit, he hurt his quadriceps w…\n",
            ".............................................................\n",
            "Sentiment(polarity=-0.30000000000000004, subjectivity=0.4)\n",
            "RT @Oscars_Daddy: Congrats to RCB supporters ❤🏏\n",
            "#RCB https://t.co/j4ZZfq3Agy\n",
            ".............................................................\n",
            "Sentiment(polarity=0.0, subjectivity=0.0)\n",
            "@cricketaakash RCB RCB RCB🥳🥳🥳🥳🥳\n",
            ".............................................................\n",
            "Sentiment(polarity=0.0, subjectivity=0.0)\n",
            "@CXPhotos @Wolves @ManCity Still don’t trust him to be consistent for the entire season. We need a more reliable RCB.\n",
            ".............................................................\n",
            "Sentiment(polarity=0.25, subjectivity=0.4583333333333333)\n",
            "@yuzi_chahal @imVkohli @ABdeVilliers17 @DaleSteyn62 @RCBTweets We want to see RCB won this #IPL2020\n",
            ".............................................................\n",
            "Sentiment(polarity=0.0, subjectivity=0.0)\n",
            "@SzaszakH @navidjaaan idek they already have a strong squad but kimmich replaces thiago and pavard can play rb and… https://t.co/oOr9jH399D\n",
            ".............................................................\n",
            "Sentiment(polarity=0.4333333333333333, subjectivity=0.7333333333333333)\n"
          ],
          "name": "stdout"
        }
      ]
    },
    {
      "cell_type": "markdown",
      "metadata": {
        "id": "Ddi--p1ZoRTj",
        "colab_type": "text"
      },
      "source": [
        "get public tweet in list"
      ]
    },
    {
      "cell_type": "code",
      "metadata": {
        "id": "rpFQD39ZlLdj",
        "colab_type": "code",
        "colab": {}
      },
      "source": [
        "sentance_to_analyse = [[tweet.text]for tweet in public_tweets]"
      ],
      "execution_count": 41,
      "outputs": []
    },
    {
      "cell_type": "markdown",
      "metadata": {
        "id": "vqNsMw4toVn7",
        "colab_type": "text"
      },
      "source": [
        "Make row of tweets"
      ]
    },
    {
      "cell_type": "code",
      "metadata": {
        "id": "G5dKR9g5lQ3Q",
        "colab_type": "code",
        "colab": {}
      },
      "source": [
        "with open('sentiment.csv', 'w') as csvfile:\n",
        "    file = csv.writer(csvfile, delimiter=',', quoting=csv.QUOTE_ALL)\n",
        "    file.writerow(['Tweet', 'Polarity'])\n",
        "    file.writerows(sentance_to_analyse)"
      ],
      "execution_count": 42,
      "outputs": []
    },
    {
      "cell_type": "markdown",
      "metadata": {
        "id": "TxlPRLFooaOL",
        "colab_type": "text"
      },
      "source": [
        "perform sentiment analysis on tweets   "
      ]
    },
    {
      "cell_type": "code",
      "metadata": {
        "id": "YhydnVEklVhh",
        "colab_type": "code",
        "colab": {}
      },
      "source": [
        "with open('sentiment.csv', 'r') as f:\n",
        "    rows = csv.reader(f)\n",
        "    sentiment_of_tweet = [[\"Positive\"] if TextBlob(r[0]).sentiment.polarity >= 0 else [\"Negative\"] for r in rows]\n"
      ],
      "execution_count": 43,
      "outputs": []
    },
    {
      "cell_type": "markdown",
      "metadata": {
        "id": "I9nY8BhSogp9",
        "colab_type": "text"
      },
      "source": [
        "**csv doesnt support write column because variable-length lines are not really \n",
        " supported on most filesystems. What you should do instead is collect all the \n",
        " data in lists, then call zip() on them to transpose them after.** "
      ]
    },
    {
      "cell_type": "markdown",
      "metadata": {
        "id": "zmkldeS2ooBD",
        "colab_type": "text"
      },
      "source": [
        "collect data in list-[], tupple-()"
      ]
    },
    {
      "cell_type": "code",
      "metadata": {
        "id": "XGZSHf7_laVZ",
        "colab_type": "code",
        "colab": {
          "base_uri": "https://localhost:8080/",
          "height": 34
        },
        "outputId": "bcae081a-54df-4647-e206-0b2f45d22099"
      },
      "source": [
        "data = [(sentance_to_analyse),(sentiment_of_tweet)]\n",
        "zipp = zip(*data)\n",
        "print(zipp)"
      ],
      "execution_count": 44,
      "outputs": [
        {
          "output_type": "stream",
          "text": [
            "<zip object at 0x7f6a85296048>\n"
          ],
          "name": "stdout"
        }
      ]
    },
    {
      "cell_type": "markdown",
      "metadata": {
        "id": "IOiUovqJot56",
        "colab_type": "text"
      },
      "source": [
        "*write tweet and its sentiment*"
      ]
    },
    {
      "cell_type": "code",
      "metadata": {
        "id": "RCEg1tDJlhMu",
        "colab_type": "code",
        "colab": {}
      },
      "source": [
        "with open('sentiment.csv', 'w') as csvfile:\n",
        "    file = csv.writer(csvfile, delimiter=',', quoting=csv.QUOTE_ALL)\n",
        "    \n",
        "    file.writerow(['Tweet', 'Polarity'])\n",
        "    file.writerows(zipp)"
      ],
      "execution_count": 45,
      "outputs": []
    },
    {
      "cell_type": "markdown",
      "metadata": {
        "id": "FrEce64KoynQ",
        "colab_type": "text"
      },
      "source": [
        "**READ THE CSV FILE IN WHICH THE OUTPUT WAS PASTED**"
      ]
    },
    {
      "cell_type": "code",
      "metadata": {
        "id": "NvWt9aiZl5kW",
        "colab_type": "code",
        "colab": {
          "base_uri": "https://localhost:8080/",
          "height": 514
        },
        "outputId": "624cc15e-1c90-4cb0-ef89-479216e1796d"
      },
      "source": [
        "import pandas as pd\n",
        "df=pd.read_csv('sentiment.csv')\n",
        "df"
      ],
      "execution_count": 46,
      "outputs": [
        {
          "output_type": "execute_result",
          "data": {
            "text/html": [
              "<div>\n",
              "<style scoped>\n",
              "    .dataframe tbody tr th:only-of-type {\n",
              "        vertical-align: middle;\n",
              "    }\n",
              "\n",
              "    .dataframe tbody tr th {\n",
              "        vertical-align: top;\n",
              "    }\n",
              "\n",
              "    .dataframe thead th {\n",
              "        text-align: right;\n",
              "    }\n",
              "</style>\n",
              "<table border=\"1\" class=\"dataframe\">\n",
              "  <thead>\n",
              "    <tr style=\"text-align: right;\">\n",
              "      <th></th>\n",
              "      <th>Tweet</th>\n",
              "      <th>Polarity</th>\n",
              "    </tr>\n",
              "  </thead>\n",
              "  <tbody>\n",
              "    <tr>\n",
              "      <th>0</th>\n",
              "      <td>['RT @being_Ajay_: 2020 में जैसी जैसी अनहोनी ह...</td>\n",
              "      <td>['Positive']</td>\n",
              "    </tr>\n",
              "    <tr>\n",
              "      <th>1</th>\n",
              "      <td>[\"RT @Nushrratt: RCB wins with a catch straigh...</td>\n",
              "      <td>['Positive']</td>\n",
              "    </tr>\n",
              "    <tr>\n",
              "      <th>2</th>\n",
              "      <td>['RT @Singhlicious: RCB players after winning ...</td>\n",
              "      <td>['Positive']</td>\n",
              "    </tr>\n",
              "    <tr>\n",
              "      <th>3</th>\n",
              "      <td>['Fuck RCB https://t.co/cJtmJDjei1']</td>\n",
              "      <td>['Positive']</td>\n",
              "    </tr>\n",
              "    <tr>\n",
              "      <th>4</th>\n",
              "      <td>['Sunny on gerg wicket this is a blunder playi...</td>\n",
              "      <td>['Negative']</td>\n",
              "    </tr>\n",
              "    <tr>\n",
              "      <th>5</th>\n",
              "      <td>['RT @AbdeFansTrends: Haters \\U0001f92b\\U0001f...</td>\n",
              "      <td>['Negative']</td>\n",
              "    </tr>\n",
              "    <tr>\n",
              "      <th>6</th>\n",
              "      <td>['RT @Hari_VFC_: Chahal in RCB                ...</td>\n",
              "      <td>['Positive']</td>\n",
              "    </tr>\n",
              "    <tr>\n",
              "      <th>7</th>\n",
              "      <td>['First Virat Kohli showed respect and give Ro...</td>\n",
              "      <td>['Negative']</td>\n",
              "    </tr>\n",
              "    <tr>\n",
              "      <th>8</th>\n",
              "      <td>[\"RT @akakrcb6: RCB won yesterday , RCBians ge...</td>\n",
              "      <td>['Positive']</td>\n",
              "    </tr>\n",
              "    <tr>\n",
              "      <th>9</th>\n",
              "      <td>['RT @mufaddal_vohra: David Warner said that K...</td>\n",
              "      <td>['Positive']</td>\n",
              "    </tr>\n",
              "    <tr>\n",
              "      <th>10</th>\n",
              "      <td>['RT @Oscars_Daddy: Congrats to RCB supporters...</td>\n",
              "      <td>['Negative']</td>\n",
              "    </tr>\n",
              "    <tr>\n",
              "      <th>11</th>\n",
              "      <td>['@cricketaakash RCB RCB RCB\\U0001f973\\U0001f9...</td>\n",
              "      <td>['Positive']</td>\n",
              "    </tr>\n",
              "    <tr>\n",
              "      <th>12</th>\n",
              "      <td>['@CXPhotos @Wolves @ManCity Still don’t trust...</td>\n",
              "      <td>['Positive']</td>\n",
              "    </tr>\n",
              "    <tr>\n",
              "      <th>13</th>\n",
              "      <td>['@yuzi_chahal @imVkohli @ABdeVilliers17 @Dale...</td>\n",
              "      <td>['Positive']</td>\n",
              "    </tr>\n",
              "    <tr>\n",
              "      <th>14</th>\n",
              "      <td>['@SzaszakH @navidjaaan idek they already have...</td>\n",
              "      <td>['Positive']</td>\n",
              "    </tr>\n",
              "  </tbody>\n",
              "</table>\n",
              "</div>"
            ],
            "text/plain": [
              "                                                Tweet      Polarity\n",
              "0   ['RT @being_Ajay_: 2020 में जैसी जैसी अनहोनी ह...  ['Positive']\n",
              "1   [\"RT @Nushrratt: RCB wins with a catch straigh...  ['Positive']\n",
              "2   ['RT @Singhlicious: RCB players after winning ...  ['Positive']\n",
              "3                ['Fuck RCB https://t.co/cJtmJDjei1']  ['Positive']\n",
              "4   ['Sunny on gerg wicket this is a blunder playi...  ['Negative']\n",
              "5   ['RT @AbdeFansTrends: Haters \\U0001f92b\\U0001f...  ['Negative']\n",
              "6   ['RT @Hari_VFC_: Chahal in RCB                ...  ['Positive']\n",
              "7   ['First Virat Kohli showed respect and give Ro...  ['Negative']\n",
              "8   [\"RT @akakrcb6: RCB won yesterday , RCBians ge...  ['Positive']\n",
              "9   ['RT @mufaddal_vohra: David Warner said that K...  ['Positive']\n",
              "10  ['RT @Oscars_Daddy: Congrats to RCB supporters...  ['Negative']\n",
              "11  ['@cricketaakash RCB RCB RCB\\U0001f973\\U0001f9...  ['Positive']\n",
              "12  ['@CXPhotos @Wolves @ManCity Still don’t trust...  ['Positive']\n",
              "13  ['@yuzi_chahal @imVkohli @ABdeVilliers17 @Dale...  ['Positive']\n",
              "14  ['@SzaszakH @navidjaaan idek they already have...  ['Positive']"
            ]
          },
          "metadata": {
            "tags": []
          },
          "execution_count": 46
        }
      ]
    },
    {
      "cell_type": "code",
      "metadata": {
        "id": "RKaUEfdJl_YY",
        "colab_type": "code",
        "colab": {}
      },
      "source": [
        ""
      ],
      "execution_count": null,
      "outputs": []
    }
  ]
}